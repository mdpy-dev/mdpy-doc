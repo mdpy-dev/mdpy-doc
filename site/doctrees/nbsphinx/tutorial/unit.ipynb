{
 "cells": [
  {
   "cell_type": "markdown",
   "metadata": {},
   "source": [
    "# How to use mdpy.unit package"
   ]
  },
  {
   "cell_type": "code",
   "execution_count": 1,
   "metadata": {},
   "outputs": [],
   "source": [
    "import mdpy as md\n",
    "import numpy as np\n",
    "from mdpy.unit import *\n",
    "from mdpy.unit.unit_definition import *\n",
    "from mdpy.error import *"
   ]
  },
  {
   "cell_type": "markdown",
   "metadata": {},
   "source": [
    "### Overview\n",
    "\n",
    "![](./image/mdpy-unit-package.png)\n",
    "\n",
    "`mdpy.unit` package contains three class:\n",
    "\n",
    "- `mdpy.unit.BaseDimension` class\n",
    "- `mdpy.unit.Unit` class\n",
    "- `mdpy.unit.Quantity` class\n",
    "\n"
   ]
  },
  {
   "cell_type": "markdown",
   "metadata": {},
   "source": [
    "##### BaseDimension\n",
    "\n",
    "`mdpy.unit.BaseDimension` define the basic dimension of a unit. \n",
    "\n",
    "The `__str__` method gives the reference dimension used in mdpy.\n",
    "\n",
    "In MDPy, the reference dimension is consistent with **SI unit system**."
   ]
  },
  {
   "cell_type": "code",
   "execution_count": 2,
   "metadata": {},
   "outputs": [
    {
     "name": "stdout",
     "output_type": "stream",
     "text": [
      "; m; kg; s; k; c; mol; "
     ]
    }
   ],
   "source": [
    "print(constant, end='; ')\n",
    "print(length, end='; ')\n",
    "print(mass, end='; ')\n",
    "print(time, end='; ')\n",
    "print(temperature, end='; ')\n",
    "print(charge, end='; ')\n",
    "print(mol_dimension, end='; ')"
   ]
  },
  {
   "cell_type": "markdown",
   "metadata": {},
   "source": [
    "The **multiplication** and **division** of `BaseDimension` gives new `BaseDimension` object:"
   ]
  },
  {
   "cell_type": "code",
   "execution_count": 3,
   "metadata": {},
   "outputs": [
    {
     "name": "stdout",
     "output_type": "stream",
     "text": [
      "m/s^2 kg*m/s^2\n"
     ]
    }
   ],
   "source": [
    "acceleration = length / time**2\n",
    "force = mass * acceleration\n",
    "\n",
    "print(acceleration, force)"
   ]
  },
  {
   "cell_type": "markdown",
   "metadata": {},
   "source": [
    "##### Unit\n",
    "\n",
    "`mdpy.unit.Unit` class, consist with the `relative_value` and `BaseDimension`, defines specific physical unit. \n",
    "\n",
    "The `relative_value` define the relative scales to the reference unit, which shown above.\n",
    "\n",
    "The `__str__` method shows the relative value and reference unit."
   ]
  },
  {
   "cell_type": "code",
   "execution_count": 4,
   "metadata": {},
   "outputs": [
    {
     "name": "stdout",
     "output_type": "stream",
     "text": [
      "1.00e+00 m 1.00e-09 m\n"
     ]
    }
   ],
   "source": [
    "meter = Unit(length, 1)\n",
    "nanometer = Unit(length, 1e-9)\n",
    "print(meter, nanometer)"
   ]
  },
  {
   "cell_type": "markdown",
   "metadata": {},
   "source": [
    "The **multiplication** and **division** of `Unit` gives new `Unit` object:"
   ]
  },
  {
   "cell_type": "code",
   "execution_count": 5,
   "metadata": {},
   "outputs": [
    {
     "name": "stdout",
     "output_type": "stream",
     "text": [
      "1.00e+06 m/s\n"
     ]
    }
   ],
   "source": [
    "meter = Unit(length, 1)\n",
    "microsecond = Unit(time, 1e-6)\n",
    "meter_per_microsecond = meter / microsecond\n",
    "print(meter_per_microsecond)"
   ]
  },
  {
   "cell_type": "markdown",
   "metadata": {},
   "source": [
    "##### Quantity\n",
    "\n",
    "`mdpy.unit.Quantity` class, consist with `value` and `Unit`, defines a physical quantity.\n",
    "\n",
    "The `__str__` method shows the value and unit."
   ]
  },
  {
   "cell_type": "code",
   "execution_count": 6,
   "metadata": {},
   "outputs": [
    {
     "name": "stdout",
     "output_type": "stream",
     "text": [
      "[1.] (1.00e-09 m)\n",
      "[1. 2. 3. 4.] (1.00e-09 m)\n"
     ]
    }
   ],
   "source": [
    "nanometer = Unit(length, 1e-9)\n",
    "print(Quantity(1, nanometer))\n",
    "print(Quantity(np.array([1, 2, 3, 4]), nanometer))"
   ]
  },
  {
   "cell_type": "markdown",
   "metadata": {},
   "source": [
    "Basic operations includes addition, subtraction, multiplication, division, and power is closed for `Quantity`\n",
    "\n",
    "**Notice**:\n",
    "\n",
    "- All operations can only performed between `Quantity` object\n",
    "- addition and subtraction can only performed between `Quantity` with the same `Unit`"
   ]
  },
  {
   "cell_type": "code",
   "execution_count": 7,
   "metadata": {},
   "outputs": [
    {
     "name": "stdout",
     "output_type": "stream",
     "text": [
      "[1.] (1.00e+00 kg*m/s^2) [3.] (1.00e+00 kg*m/s^2)\n"
     ]
    }
   ],
   "source": [
    "f = Quantity(1, meter) * Quantity(1, kilogram) / Quantity(1, second)**2\n",
    "print(f, f + Quantity(2) * f)"
   ]
  },
  {
   "cell_type": "code",
   "execution_count": 8,
   "metadata": {},
   "outputs": [
    {
     "data": {
      "text/plain": [
       "NotImplementedError(\"* between <class 'int'> and mdpy.unit.Quantity is not implemented\")"
      ]
     },
     "execution_count": 8,
     "metadata": {},
     "output_type": "execute_result"
    }
   ],
   "source": [
    "2 * f"
   ]
  },
  {
   "cell_type": "code",
   "execution_count": 9,
   "metadata": {},
   "outputs": [
    {
     "name": "stdout",
     "output_type": "stream",
     "text": [
      "kg*m/s^2 and m can't be added together\n"
     ]
    }
   ],
   "source": [
    "try:\n",
    "    f + Quantity(1, meter)\n",
    "except UnitDimensionMismatchedError as e:\n",
    "    print(e)"
   ]
  },
  {
   "cell_type": "markdown",
   "metadata": {},
   "source": [
    "##### Physical constant\n",
    "\n",
    "`mdpy.unit` package also defined frequently used physical constants includes:\n",
    "\n",
    "- `KB`: The Boltzmann constant\n",
    "- `EPSILON0`: The permeability of vacuum\n",
    "- `NA`: The Avogadro constant"
   ]
  },
  {
   "cell_type": "code",
   "execution_count": 10,
   "metadata": {},
   "outputs": [
    {
     "name": "stdout",
     "output_type": "stream",
     "text": [
      "[4.1419458e-21] (1.00e+00 m^2*kg/s^2)\n",
      "[1.745916] (1.66e-18 m^2*kg/s^2)\n",
      "[6.0221e+23] (1.00e+00 )\n"
     ]
    }
   ],
   "source": [
    "print(Quantity(300, kelvin) * KB)\n",
    "print(Quantity(1, elementary_charge**2/nanometer) / EPSILON0)\n",
    "print(Quantity(1, mol) * NA)"
   ]
  },
  {
   "cell_type": "markdown",
   "metadata": {},
   "source": [
    "### Unit conversion\n",
    "\n",
    "`mdpy.unit` package has two main job:\n",
    "\n",
    "- Convert all kind of unit system to the **default unit system** used in MDPy\n",
    "- Convert the result from MDPy to frequently used unit system\n",
    "\n",
    "To achieve this, `Quantity` class provide `convert_to` method:"
   ]
  },
  {
   "cell_type": "code",
   "execution_count": 11,
   "metadata": {},
   "outputs": [
    {
     "name": "stdout",
     "output_type": "stream",
     "text": [
      "Origin:  [4.1419458e-21] (1.00e+00 m^2*kg/s^2)\n",
      "Default unit:  [0.00024943] (1.66e-17 m^2*kg/s^2)\n",
      "kj/mol:  [2.494321] (1.66e-21 m^2*kg/s^2)\n",
      "Check consistence:  [1.] (1.00e+00 ) [1.] (1.00e+00 )\n"
     ]
    }
   ],
   "source": [
    "kbt = Quantity(300, kelvin) * KB\n",
    "print('Origin: ', kbt)\n",
    "\n",
    "kbt_default = kbt.convert_to(default_energy_unit)\n",
    "print('Default unit: ', kbt_default)\n",
    "\n",
    "kbt_kj_per_mol = kbt.convert_to(kilojoule_permol)\n",
    "print('kj/mol: ', kbt_kj_per_mol)\n",
    "\n",
    "print('Check consistence: ', kbt/kbt_default, kbt/kbt_kj_per_mol)"
   ]
  }
 ],
 "metadata": {
  "kernelspec": {
   "display_name": "Python 3 (ipykernel)",
   "language": "python",
   "name": "python3"
  },
  "language_info": {
   "codemirror_mode": {
    "name": "ipython",
    "version": 3
   },
   "file_extension": ".py",
   "mimetype": "text/x-python",
   "name": "python",
   "nbconvert_exporter": "python",
   "pygments_lexer": "ipython3",
   "version": "3.9.7"
  },
  "vscode": {
   "interpreter": {
    "hash": "3d1e6c22b7193c47541d96491558757bbbe20ccf78ea22a74e5b3cf66032e86e"
   }
  }
 },
 "nbformat": 4,
 "nbformat_minor": 2
}
